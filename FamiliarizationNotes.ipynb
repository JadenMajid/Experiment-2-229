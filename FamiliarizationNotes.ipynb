{
 "cells": [
  {
   "cell_type": "markdown",
   "metadata": {
    "tags": []
   },
   "source": [
    "# Monday, Feb 15, 2:00 PM"
   ]
  },
  {
   "cell_type": "markdown",
   "metadata": {
    "tags": []
   },
   "source": [
    "## Experiment #2  - Week 1 - Familiarization Notes"
   ]
  },
  {
   "cell_type": "markdown",
   "metadata": {
    "jp-MarkdownHeadingCollapsed": true,
    "tags": []
   },
   "source": [
    "## Working with Measuring the Gas Constant"
   ]
  },
  {
   "cell_type": "markdown",
   "metadata": {},
   "source": [
    "# Clarify Objective"
   ]
  },
  {
   "attachments": {},
   "cell_type": "markdown",
   "metadata": {},
   "source": [
    "The experimental set-up suggests an experiment where we measure the gas constant by measuring the change in volume due to a known force acting upon a plugged syringe.\n",
    "\n",
    "My hypothesis is that the gas constant for air can be measured by measuring in the change in volume  due to a known force acting upon a plugged syringe.\n",
    "\n",
    "## Physical meanings\n",
    "\n",
    "- Volume(V):$m^3$\n",
    "- Force(F):$N$\n",
    "- Pressure(P):$N/m^2$\n",
    "- Mass(m): $kg$\n",
    "- Acceleration(a): $m/s^2$\n",
    "- Mols(n): $Dimensionless$\n"
   ]
  },
  {
   "cell_type": "markdown",
   "metadata": {},
   "source": [
    "# Explore Tools"
   ]
  },
  {
   "attachments": {},
   "cell_type": "markdown",
   "metadata": {},
   "source": [
    "List all of your tools\n",
    "\n",
    "**Materials:**\n",
    "\n",
    "- Calipers($0-155mm\\pm0.05$)\n",
    "- Calibrated Weights\n",
    "  - 1kg\n",
    "  - 0.5kg\n",
    "  - 0.2kg (2 of them)\n",
    "  - 0.1kg\n",
    "- Scale\n",
    "- Bar setup\n",
    "- Syringe\n",
    "- Plug\n",
    "- \n",
    "\n",
    "**Analytical Tools:**\n",
    "\n",
    "- Chi-square\n",
    "- \n",
    "\n",
    "\n",
    "__Measurment range__\n",
    "\n",
    "__Measurment precision__\n",
    "\n",
    "__Noise sources__\n",
    "\n",
    "__Other sources of uncertainty__\n",
    "\n",
    "__Systematic errors__"
   ]
  },
  {
   "cell_type": "markdown",
   "metadata": {},
   "source": [
    "# Relate Quantities"
   ]
  },
  {
   "attachments": {},
   "cell_type": "markdown",
   "metadata": {},
   "source": [
    "Think of all of the equations and tools you will need on the path from raw data to a final result.\n",
    "\n",
    "What statistical tools do you need?\n",
    "\n",
    "What graphs will you do?\n",
    "\n",
    "1/V as a function of m\n",
    "\n",
    "\n",
    "\n",
    "How do I propagate uncertainty to the final result?\n",
    "\n",
    "What other equations do I need?\n",
    "\n",
    "- $V_{cylinder}=\\pi*r^2*h$\n",
    "- $A_{circle}=\\pi*r^2$\n",
    "- $P=F/A$\n",
    "- $1/V=\\frac{P_a}{nRT}-m\\frac{g}{AnRT}$\n",
    "- $\\Delta P = P_2-P_1$\n",
    "\n",
    "\n",
    "Will I be fitting models? Which models, and how to fit them?\n",
    "\n",
    "Does the analysis that I propose have an impact on how I will take my data?"
   ]
  },
  {
   "cell_type": "markdown",
   "metadata": {},
   "source": [
    "# Test and Try"
   ]
  },
  {
   "cell_type": "markdown",
   "metadata": {},
   "source": [
    "Try a few measurments and take very detailed notes as you go along\n",
    "\n",
    "Try different procedures if you can think of more than one way of doing things\n",
    "\n",
    "Run some test data through your data analysis procedure to see how things work out\n",
    "\n",
    "Evaluate uncertainties and look for ways to improve final result.\n"
   ]
  },
  {
   "cell_type": "markdown",
   "metadata": {},
   "source": [
    "$\\gamma$\n",
    "\n"
   ]
  },
  {
   "cell_type": "code",
   "execution_count": null,
   "metadata": {},
   "outputs": [],
   "source": []
  },
  {
   "cell_type": "code",
   "execution_count": null,
   "metadata": {},
   "outputs": [],
   "source": []
  }
 ],
 "metadata": {
  "kernelspec": {
   "display_name": "Python 3 (ipykernel)",
   "language": "python",
   "name": "python3"
  },
  "language_info": {
   "codemirror_mode": {
    "name": "ipython",
    "version": 3
   },
   "file_extension": ".py",
   "mimetype": "text/x-python",
   "name": "python",
   "nbconvert_exporter": "python",
   "pygments_lexer": "ipython3",
   "version": "3.10.6"
  }
 },
 "nbformat": 4,
 "nbformat_minor": 4
}
