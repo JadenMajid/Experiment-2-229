{
 "cells": [
  {
   "cell_type": "markdown",
   "metadata": {
    "tags": []
   },
   "source": [
    "# Monday, Feb 15, 2:00 PM"
   ]
  },
  {
   "cell_type": "markdown",
   "metadata": {
    "tags": []
   },
   "source": [
    "## Experiment #2  - Week 1 - Familiarization Notes"
   ]
  },
  {
   "cell_type": "markdown",
   "metadata": {
    "jp-MarkdownHeadingCollapsed": true,
    "tags": []
   },
   "source": [
    "## Working with Measuring the Gas Constant"
   ]
  },
  {
   "cell_type": "markdown",
   "metadata": {},
   "source": [
    "# Clarify Objective"
   ]
  },
  {
   "attachments": {},
   "cell_type": "markdown",
   "metadata": {},
   "source": [
    "The experimental set-up suggests an experiment where we measure the gas constant by measuring the change in volume due to a known force acting upon a plugged syringe.\n",
    "\n",
    "My hypothesis is that the gas constant for air can be measured by measuring in the change in volume  due to a known force acting upon a plugged syringe.\n",
    "\n",
    "## Physical meanings\n",
    "\n",
    "- Volume(V):$m^3$\n",
    "- Force(F):$N$\n",
    "- Pressure(P):$N/m^2$\n",
    "- Mass(m): $kg$\n",
    "- Acceleration(a): $m/s^2$\n",
    "- Mols(n): $Dimensionless$\n"
   ]
  },
  {
   "cell_type": "markdown",
   "metadata": {},
   "source": [
    "# Explore Tools"
   ]
  },
  {
   "attachments": {},
   "cell_type": "markdown",
   "metadata": {},
   "source": [
    "List all of your tools\n",
    "\n",
    "**Materials:**\n",
    "\n",
    "- Calipers($0-155mm\\pm0.05$)\n",
    "- Calibrated Weights\n",
    "  - 1kg\n",
    "  - 0.5kg\n",
    "  - 0.2kg (2 of them)\n",
    "  - 0.1kg\n",
    "- Scale\n",
    "- Bar setup\n",
    "- Syringe\n",
    "- Plug\n",
    "- \n",
    "\n",
    "**Analytical Tools:**\n",
    "\n",
    "- Chi-square\n",
    "- \n",
    "\n",
    "\n",
    "__Measurment range__\n",
    "\n",
    "__Measurment precision__\n",
    "\n",
    "__Noise sources__\n",
    "\n",
    "__Other sources of uncertainty__\n",
    "\n",
    "__Systematic errors__"
   ]
  },
  {
   "cell_type": "markdown",
   "metadata": {},
   "source": [
    "# Relate Quantities"
   ]
  },
  {
   "attachments": {},
   "cell_type": "markdown",
   "metadata": {},
   "source": [
    "Think of all of the equations and tools you will need on the path from raw data to a final result.\n",
    "\n",
    "What statistical tools do you need?\n",
    "\n",
    "What graphs will you do?\n",
    "\n",
    "1/V as a function of m\n",
    "\n",
    "\n",
    "\n",
    "How do I propagate uncertainty to the final result?\n",
    "\n",
    "What other equations do I need?\n",
    "\n",
    "- $V_{cylinder}=\\pi*r^2*h$\n",
    "- $A_{circle}=\\pi*r^2$\n",
    "- $P=F/A$\n",
    "- $1/V=\\frac{P_a}{nRT}-m\\frac{g}{AnRT}$\n",
    "- $\\Delta P = P_2-P_1$\n",
    "\n",
    "\n",
    "Will I be fitting models? Which models, and how to fit them?\n",
    "\n",
    "Does the analysis that I propose have an impact on how I will take my data?"
   ]
  },
  {
   "cell_type": "markdown",
   "metadata": {},
   "source": [
    "# Test and Try"
   ]
  },
  {
   "cell_type": "markdown",
   "metadata": {},
   "source": [
    "Try a few measurments and take very detailed notes as you go along\n",
    "\n",
    "Try different procedures if you can think of more than one way of doing things\n",
    "\n",
    "Run some test data through your data analysis procedure to see how things work out\n",
    "\n",
    "Evaluate uncertainties and look for ways to improve final result.\n"
   ]
  },
  {
   "cell_type": "markdown",
   "metadata": {},
   "source": [
    "$\\gamma$\n",
    "\n"
   ]
  },
  {
   "attachments": {},
   "cell_type": "markdown",
   "metadata": {},
   "source": [
    "\n",
    "__Group: Jaden Majid and Logan__\n",
    "\n",
    "## __Experiment: Measuring gas constant Day 2__ ##\n",
    "\n",
    "__Date: Wed. Mar 1 2023__\n",
    "\n",
    "\n",
    "## ***Activity Log*** ##\n",
    "\n",
    "14:00-15:00 Discussion of friction acting on system\n",
    "\n",
    "__Data Collection__\n",
    "\n",
    "Ambient temperature: $295.65K$\n",
    "\n",
    "\n",
    "__Uncertainties__\n",
    "\n",
    "The uncertainty in temperature was $2.5K$ according to Megan:).\n",
    "\n",
    "The uncertainty in height of the cylinder is $\\pm0.05mm$\n",
    "\n",
    "The uncertainty in the scale measurement is 1%\n",
    "\n",
    "## Experimental Question/Objective ##\n",
    "\n",
    "__Clarifying Objective__\n",
    "\n",
    "We will be measuring the gas constant by making a force measurement device to measure the difference in force \n",
    "\n",
    "__?__\n",
    "\n",
    "__Discussion Notes__\n",
    "\n",
    "The initial modeling of the syringe system neglected the friction of the plunger on the sides of the walls of the syringe. \n",
    "In order to factor this in, a friction term will be added to the equation: $PA+mg=P_aA+F_k$ and $PA+mg+F_k=P_aA$, with the first equation corresponding to the gas expanding, and the second equation corresponding to the gas contracting. \n",
    "Kinetic friction was chosen because the gas in the syringe expands or contracts, and the friction acts in the opposite direction, slowing it down as it moves to its equilibrium position. \n",
    "\n",
    "This kinetic friction can be measured by taking two trials of the gas expanding and contracting to equilibrium, and measuring the difference in expansion, providing a constant term.\n",
    "\n",
    "The measurement was completed by starting with an intial volume of 3mL, and adding a $0.5kg$ weight to the syringe. When allowing the syringe to expand to equilibrium, the syringe expanded to 4mL, when allowing the syringe to contract to equilibrium, the syringe contracted to 5mL. This suggests the friction force is \n",
    "\n",
    "__Hypothesis__\n",
    "\n"
   ]
  },
  {
   "cell_type": "code",
   "execution_count": null,
   "metadata": {},
   "outputs": [],
   "source": []
  }
 ],
 "metadata": {
  "kernelspec": {
   "display_name": "Python 3",
   "language": "python",
   "name": "python3"
  },
  "language_info": {
   "codemirror_mode": {
    "name": "ipython",
    "version": 3
   },
   "file_extension": ".py",
   "mimetype": "text/x-python",
   "name": "python",
   "nbconvert_exporter": "python",
   "pygments_lexer": "ipython3",
   "version": "3.9.6"
  },
  "vscode": {
   "interpreter": {
    "hash": "aee8b7b246df8f9039afb4144a1f6fd8d2ca17a180786b69acc140d282b71a49"
   }
  }
 },
 "nbformat": 4,
 "nbformat_minor": 4
}
