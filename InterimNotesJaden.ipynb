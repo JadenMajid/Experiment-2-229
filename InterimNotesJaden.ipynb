{
 "cells": [
  {
   "attachments": {},
   "cell_type": "markdown",
   "metadata": {},
   "source": [
    "__Group: Jaden Majid and Logan__\n",
    "\n",
    "__Experiment: Measuring gas constant__\n",
    "\n",
    "__Date: Wed. Mar 1 2023__\n",
    "\n",
    "\n",
    "## ***Activity Log*** ##\n",
    "\n",
    "\n",
    "\n",
    "## ***Data Collection*** ##\n",
    "\n",
    "Ambient temperature: $295.65K$\n",
    "\n",
    "\n",
    "\n",
    "## **Uncertainties** ##\n",
    "\n",
    "The uncertainty in temperature was $2.5K$ according to Megan:).\n",
    "The uncertainty in height of the cylinder is $\\pm0.05mm$\n",
    "\n",
    "## Experimental Question/Objective ##\n",
    "\n",
    "__H?__\n",
    "\n",
    "\n",
    "\n",
    "__Hypothesis__\n",
    "\n",
    "\n"
   ]
  },
  {
   "attachments": {},
   "cell_type": "markdown",
   "metadata": {},
   "source": [
    "## __Wednesday March 22__\n",
    "__Group: Jaden and Logan__\n",
    "\n"
   ]
  },
  {
   "cell_type": "code",
   "execution_count": null,
   "metadata": {},
   "outputs": [],
   "source": []
  }
 ],
 "metadata": {
  "kernelspec": {
   "display_name": "Python 3",
   "language": "python",
   "name": "python3"
  },
  "language_info": {
   "name": "python",
   "version": "3.9.6"
  },
  "orig_nbformat": 4,
  "vscode": {
   "interpreter": {
    "hash": "aee8b7b246df8f9039afb4144a1f6fd8d2ca17a180786b69acc140d282b71a49"
   }
  }
 },
 "nbformat": 4,
 "nbformat_minor": 2
}
