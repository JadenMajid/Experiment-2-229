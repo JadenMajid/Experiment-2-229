{
 "cells": [
  {
   "attachments": {},
   "cell_type": "markdown",
   "metadata": {},
   "source": [
    "## __Measuring Ideal Gas Constant__ ##\n",
    "\n",
    "Group: Logan MacHale, Jaden Majid"
   ]
  },
  {
   "attachments": {},
   "cell_type": "markdown",
   "metadata": {},
   "source": [
    "## Familiarization Notes - Feb 25 ##\n",
    "\n",
    "__Clarify Objective__\n",
    "\n",
    "We will be measuring the gas constant by assembling a force meter and using it to measure the force of the gas on various weights.\n",
    "\n",
    "My hypothesis is that the gas constant for air can be measured using our apparatus and it will be similar to the scientifically accepted value.\n",
    "\n",
    "__Physical meanings__\n",
    "\n",
    "- Volume(V):$m^3$\n",
    "- Force(F):$N$\n",
    "- Pressure(P):$N/m^2$\n",
    "- Mass(m): $kg$\n",
    "- Acceleration(a): $m/s^2$\n",
    "- Mols(n): $Dimensionless$\n",
    "\n",
    "__Relate Quantities__\n",
    "\n",
    "Think of all of the equations and tools you will need on the path from raw data to a final result.\n",
    "\n",
    "What statistical tools do you need?\n",
    "\n",
    "__What graphs will you do?__\n",
    "\n",
    "1/V as a function of m\n",
    "\n",
    "\n",
    "What other equations do I need?\n",
    "\n",
    "- $V_{cylinder}=\\pi*r^2*h$\n",
    "- $A_{circle}=\\pi*r^2$\n",
    "- $P=F/A$\n",
    "- $1/V=\\frac{P_a}{nRT}-m\\frac{g}{AnRT}$\n",
    "\n",
    "__Logbook__\n",
    "\n",
    "__15:05__ First run of data collection started\n",
    "\n",
    "__15:45__ First run of data collection complete\n",
    "\n",
    "__16:00__ Friction must be taken into account"
   ]
  },
  {
   "attachments": {},
   "cell_type": "markdown",
   "metadata": {},
   "source": [
    "## Mar 1 ##\n",
    "\n",
    "__Equation with friction:__ $\\dfrac{1}{V} = -m * \\dfrac{g}{AnRT}+\\dfrac{AP_a+F_k}{AnRT}$\n",
    "\n",
    "__Logbook:__\n",
    "\n",
    "__15:15__ second run of data collection started"
   ]
  }
 ],
 "metadata": {
  "kernelspec": {
   "display_name": "Python 3",
   "language": "python",
   "name": "python3"
  },
  "language_info": {
   "name": "python",
   "version": "3.10.7 (v3.10.7:6cc6b13308, Sep  5 2022, 14:02:52) [Clang 13.0.0 (clang-1300.0.29.30)]"
  },
  "orig_nbformat": 4,
  "vscode": {
   "interpreter": {
    "hash": "7e1998ff7f8aa20ada591c520b972326324e5ea05489af9e422744c7c09f6dad"
   }
  }
 },
 "nbformat": 4,
 "nbformat_minor": 2
}
