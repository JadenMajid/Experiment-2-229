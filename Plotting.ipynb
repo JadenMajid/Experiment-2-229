{
 "cells": [
  {
   "cell_type": "code",
   "execution_count": 37,
   "metadata": {},
   "outputs": [
    {
     "data": {
      "image/png": "[encoded data removed]",
      "text/plain": [
       "<Figure size 432x288 with 1 Axes>"
      ]
     },
     "metadata": {
      "needs_background": "light"
     },
     "output_type": "display_data"
    }
   ],
   "source": [
    "import matplotlib.pyplot as plt\n",
    "import numpy as np\n",
    "import scipy\n",
    "\n",
    "fname = 'AveragedData.csv'\n",
    "\n",
    "data = np.loadtxt(fname, delimiter=',', comments='#',\n",
    "                  usecols=(0, 1, 2, 3))\n",
    "\n",
    "x = data[:, 0]\n",
    "y = data[:, 2]\n",
    "avg_x_sigma = data[:, 1]\n",
    "avg_y_sigma = data[:, 3]\n",
    "\n",
    "plt.errorbar(x, y, avg_y_sigma, avg_x_sigma, \"bo\")\n",
    "\n",
    "fname = 'GasContractsData.csv'\n",
    "\n",
    "data = np.loadtxt(fname, delimiter=',', comments='#',\n",
    "                  usecols=(1, 2, 6, 7))\n",
    "\n",
    "x = data[:, 0]\n",
    "y = data[:, 2]\n",
    "con_x_sigma = data[:, 1]\n",
    "con_y_sigma = data[:, 3]\n",
    "\n",
    "plt.errorbar(x, y, yerr=con_y_sigma, xerr=con_x_sigma, fmt='ro')\n",
    "\n",
    "fname = 'GasExpandsData.csv'\n",
    "\n",
    "data = np.loadtxt(fname, delimiter=',', comments='#',\n",
    "                  usecols=(1, 2, 6, 7))\n",
    "\n",
    "x = data[:, 0]\n",
    "y = data[:, 2]\n",
    "ex_x_sigma = data[:, 1]\n",
    "ex_y_sigma = data[:, 3]\n",
    "\n",
    "plt.errorbar(x, y, yerr=ex_y_sigma, xerr=ex_x_sigma, fmt='go')\n",
    "\n",
    "plt.title(\"Averaged Inverse Volume vs Mass added\")\n",
    "plt.legend([\"Average\", \"Contracts\", \"Expands\"])\n",
    "plt.xlabel(\"Mass(kg)\")\n",
    "plt.ylabel(\"Inverse Volume(ml^-1)\")\n",
    "\n",
    "plt.show()"
   ]
  },
  {
   "cell_type": "code",
   "execution_count": 38,
   "metadata": {},
   "outputs": [
    {
     "name": "stdout",
     "output_type": "stream",
     "text": [
      "Fit parameters:\n",
      "slope = 2.796e-01 +/- 5.074e-03\n",
      "1/v0 = 5.067e-01 +/- 4.936e-03\n",
      "\n",
      "Goodness of fit - chi square measure:\n",
      "Chi2 = 0.7066533676354002, Chi2/dof = 0.08833167095442503\n",
      "\n"
     ]
    }
   ],
   "source": [
    "from scipy.optimize import curve_fit\n",
    "\n",
    "def lin_fit(x, k, b):\n",
    "    return -k*x+b\n",
    "\n",
    "guesses = (-.320,.500)\n",
    "\n",
    "\n",
    "fit_params, fit_cov = curve_fit(lin_fit, x, y, sigma=avg_y_sigma, p0=guesses,\n",
    "                                maxfev=10**5)\n",
    "\n",
    "# read out parameter results\n",
    "param_names = ['slope', '1/v0']\n",
    "\n",
    "fit_params_error = np.sqrt(np.diag(fit_cov))\n",
    "\n",
    "print(\"Fit parameters:\")\n",
    "for i in range(len(fit_params)):\n",
    "    print('{} = {:.3e} +/- {:.3e}'.format(param_names[i],\n",
    "                                          fit_params[i],\n",
    "                                          fit_params_error[i]))\n",
    "\n",
    "\n",
    "# function that  calculates the chi square value of a fit\n",
    "def chi_square(fit_parameters, x, y, sigma):\n",
    "    #\n",
    "    return np.sum((y-lin_fit(x, *fit_parameters))**2/sigma**2)\n",
    "\n",
    "\n",
    "# calculate and print chi square as well as the per degree-of-freedom value\n",
    "chi2 = chi_square(fit_params, x, y, avg_y_sigma)\n",
    "dof = len(x) - len(fit_params)\n",
    "print(\"\\nGoodness of fit - chi square measure:\")\n",
    "print(\"Chi2 = {}, Chi2/dof = {}\\n\".format(chi2, chi2/dof))"
   ]
  },
  {
   "cell_type": "code",
   "execution_count": 67,
   "metadata": {},
   "outputs": [
    {
     "name": "stdout",
     "output_type": "stream",
     "text": [
      "[0.27961849 0.50668595]\n",
      "[0.00507434 0.00493604]\n",
      "R in mL:  8400929.651802372 +- 358124714552.3772\n",
      "R in ml percent u: 42629.18%\n",
      "358124.7145523772\n",
      "R in m^3:  8.400929651802372\n",
      "[0.00507434 0.00493604]\n"
     ]
    }
   ],
   "source": [
    "n = 8.065E-5\n",
    "g = 9.81\n",
    "A = 1.7544E-4\n",
    "T = 295.15\n",
    "\n",
    "print(fit_params)\n",
    "print(fit_params_error)\n",
    "\n",
    "pct_u_k = (fit_params_error[0]/fit_params[0])\n",
    "\n",
    "R_in_mL = g/(fit_params[0]*n*A*T)\n",
    "uR_ml = R_in_mL * g * fit_params_error[0] / (A*n*T*fit_params[0])\n",
    "\n",
    "print(\"R in mL: \", R_in_mL, \"+-\", uR_ml)\n",
    "print(\"R in ml percent u: {:0.2f}%\".format((uR_ml/R_in_mL)))\n",
    "\n",
    "uR_ml = R_in_mL * g * fit_params_error[0] / (A*n*T*fit_params[0])\n",
    "\n",
    "R_in_m3 = R_in_mL*1E-06\n",
    "uR_in_m3 = R_in_m3 * g * fit_params_error[0] / (A*n*T*fit_params[0])\n",
    "print(uR_in_m3)\n",
    "print(\"R in m^3: \", R_in_m3)\n",
    "print(fit_params_error)\n"
   ]
  },
  {
   "cell_type": "code",
   "execution_count": null,
   "metadata": {},
   "outputs": [],
   "source": []
  }
 ],
 "metadata": {
  "kernelspec": {
   "display_name": "Python 3",
   "language": "python",
   "name": "python3"
  },
  "language_info": {
   "codemirror_mode": {
    "name": "ipython",
    "version": 3
   },
   "file_extension": ".py",
   "mimetype": "text/x-python",
   "name": "python",
   "nbconvert_exporter": "python",
   "pygments_lexer": "ipython3",
   "version": "3.9.12"
  },
  "orig_nbformat": 4
 },
 "nbformat": 4,
 "nbformat_minor": 2
}
